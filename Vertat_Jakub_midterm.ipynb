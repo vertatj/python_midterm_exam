{
 "cells": [
  {
   "cell_type": "code",
   "execution_count": 22,
   "metadata": {},
   "outputs": [],
   "source": [
    "import pandas as pd\n",
    "import numpy as np"
   ]
  },
  {
   "cell_type": "code",
   "execution_count": 10,
   "metadata": {},
   "outputs": [
    {
     "name": "stdout",
     "output_type": "stream",
     "text": [
      "            Date       High        Low       Open      Close     Volume  \\\n",
      "0     2017-11-13  45.560001  44.750000  44.790001  45.540001  2189700.0   \n",
      "1     2017-11-14  45.959999  45.250000  45.250000  45.740002  3565400.0   \n",
      "2     2017-11-15  45.709999  44.380001  45.639999  44.410000  1850100.0   \n",
      "3     2017-11-16  45.320000  44.480000  44.599998  45.139999  2138100.0   \n",
      "4     2017-11-17  45.209999  44.439999  44.869999  44.750000  1871300.0   \n",
      "...          ...        ...        ...        ...        ...        ...   \n",
      "1254  2022-11-07  72.989998  71.750000  72.260002  72.860001  1302400.0   \n",
      "1255  2022-11-08  73.580002  72.269997  72.779999  72.879997  1243200.0   \n",
      "1256  2022-11-09  73.510002  72.360001  72.919998  72.529999  1205000.0   \n",
      "1257  2022-11-10  75.099998  72.980003  74.040001  74.940002  1750000.0   \n",
      "1258  2022-11-11  75.129997  73.209999  74.919998  74.470001  2015300.0   \n",
      "\n",
      "      Adj Close  \n",
      "0     42.662201  \n",
      "1     43.029087  \n",
      "2     41.777924  \n",
      "3     42.464649  \n",
      "4     42.097763  \n",
      "...         ...  \n",
      "1254  72.860001  \n",
      "1255  72.879997  \n",
      "1256  72.529999  \n",
      "1257  74.940002  \n",
      "1258  74.470001  \n",
      "\n",
      "[1259 rows x 7 columns]\n"
     ]
    }
   ],
   "source": [
    "CHD = pd.read_csv(r'C:\\Users\\Uzivatel\\Documents\\New_component\\IES\\2022_2023\\Python\\midterm\\data\\CHD.csv')\n",
    "EXR = pd.read_csv(r'C:\\Users\\Uzivatel\\Documents\\New_component\\IES\\2022_2023\\Python\\midterm\\data\\EXR.csv')\n",
    "OGN = pd.read_csv(r'C:\\Users\\Uzivatel\\Documents\\New_component\\IES\\2022_2023\\Python\\midterm\\data\\OGN.csv')\n",
    "TGT = pd.read_csv(r'C:\\Users\\Uzivatel\\Documents\\New_component\\IES\\2022_2023\\Python\\midterm\\data\\TGT.csv')\n",
    "print(CHD)"
   ]
  },
  {
   "cell_type": "markdown",
   "metadata": {},
   "source": [
    "1."
   ]
  },
  {
   "cell_type": "code",
   "execution_count": 55,
   "metadata": {},
   "outputs": [
    {
     "name": "stdout",
     "output_type": "stream",
     "text": [
      "False\n",
      "False\n",
      "True\n",
      "False\n"
     ]
    }
   ],
   "source": [
    "print(CHD['Close'].equals(CHD['Adj Close']))\n",
    "print(EXR['Close'].equals(EXR['Adj Close']))\n",
    "print(OGN['Close'].equals(OGN['Adj Close']))\n",
    "print(TGT['Close'].equals(TGT['Adj Close']))"
   ]
  },
  {
   "cell_type": "markdown",
   "metadata": {},
   "source": [
    "OGN has equal Close and Adjusted close values"
   ]
  },
  {
   "cell_type": "markdown",
   "metadata": {},
   "source": [
    "2."
   ]
  },
  {
   "cell_type": "code",
   "execution_count": 57,
   "metadata": {},
   "outputs": [
    {
     "name": "stdout",
     "output_type": "stream",
     "text": [
      "103.56768035888672 41.777923583984375\n",
      "226.72999572753903 67.9879379272461\n",
      "39.36000061035156 23.309999465942383\n",
      "265.2405090332031 48.89858627319336\n"
     ]
    }
   ],
   "source": [
    "print(CHD[\"Adj Close\"].max(), CHD[\"Adj Close\"].min())\n",
    "print(EXR[\"Adj Close\"].max(), EXR[\"Adj Close\"].min())\n",
    "print(OGN[\"Adj Close\"].max(), OGN[\"Adj Close\"].min())\n",
    "print(TGT[\"Adj Close\"].max(), TGT[\"Adj Close\"].min())\n"
   ]
  },
  {
   "cell_type": "markdown",
   "metadata": {},
   "source": [
    "3."
   ]
  },
  {
   "cell_type": "code",
   "execution_count": 58,
   "metadata": {},
   "outputs": [
    {
     "name": "stdout",
     "output_type": "stream",
     "text": [
      "-0.08953743035291861 0.12811796922996876 0.0004428323307607253 0.0009288818882282612\n",
      "-0.16805242233818696 0.0785963668737617 0.0005889779831886149 0.0009286983995484555\n",
      "-0.10186247136922777 0.11268410677009566 -0.0007218391895383264 0.0009288818882282612\n",
      "-0.08953743035291861 0.12811796922996876 0.0004428323307607253 0.0009288818882282612\n"
     ]
    }
   ],
   "source": [
    "CHD['log_returns'] = np.log(CHD[\"Adj Close\"]) - np.log(CHD[\"Adj Close\"].shift(1))\n",
    "print(CHD['log_returns'].min(),CHD['log_returns'].max(),CHD['log_returns'].mean(),CHD['log_returns'].median())\n",
    "\n",
    "EXR['log_returns'] = np.log(EXR[\"Adj Close\"]) - np.log(EXR[\"Adj Close\"].shift(1))\n",
    "print(EXR['log_returns'].min(),EXR['log_returns'].max(),EXR['log_returns'].mean(),EXR['log_returns'].median())\n",
    "\n",
    "OGN['log_returns'] = np.log(OGN[\"Adj Close\"]) - np.log(OGN[\"Adj Close\"].shift(1))\n",
    "print(OGN['log_returns'].min(),OGN['log_returns'].max(),OGN['log_returns'].mean(),CHD['log_returns'].median())\n",
    "\n",
    "TGT['log_returns'] = np.log(CHD[\"Adj Close\"]) - np.log(CHD[\"Adj Close\"].shift(1))\n",
    "print(TGT['log_returns'].min(),TGT['log_returns'].max(),TGT['log_returns'].mean(),TGT['log_returns'].median())\n"
   ]
  },
  {
   "cell_type": "markdown",
   "metadata": {},
   "source": [
    "4."
   ]
  },
  {
   "cell_type": "code",
   "execution_count": 59,
   "metadata": {},
   "outputs": [
    {
     "name": "stdout",
     "output_type": "stream",
     "text": [
      "587    2020-03-17\n",
      "Name: Date, dtype: object\n",
      "1184    2022-07-29\n",
      "Name: Date, dtype: object\n",
      "594    2020-03-26\n",
      "Name: Date, dtype: object\n",
      "586    2020-03-16\n",
      "Name: Date, dtype: object\n",
      "62    2021-08-12\n",
      "Name: Date, dtype: object\n",
      "209    2022-03-14\n",
      "Name: Date, dtype: object\n",
      "587    2020-03-17\n",
      "Name: Date, dtype: object\n",
      "1184    2022-07-29\n",
      "Name: Date, dtype: object\n"
     ]
    }
   ],
   "source": [
    "print(CHD.Date[CHD.log_returns == CHD.log_returns.max()])\n",
    "print(CHD.Date[CHD.log_returns == CHD.log_returns.min()])\n",
    "\n",
    "print(EXR.Date[EXR.log_returns == EXR.log_returns.max()])\n",
    "print(EXR.Date[EXR.log_returns == EXR.log_returns.min()])\n",
    "\n",
    "print(OGN.Date[OGN.log_returns == OGN.log_returns.max()])\n",
    "print(OGN.Date[OGN.log_returns == OGN.log_returns.min()])\n",
    "\n",
    "print(TGT.Date[TGT.log_returns == TGT.log_returns.max()])\n",
    "print(TGT.Date[TGT.log_returns == TGT.log_returns.min()])"
   ]
  },
  {
   "cell_type": "code",
   "execution_count": 60,
   "metadata": {},
   "outputs": [
    {
     "ename": "KeyError",
     "evalue": "'Daty'",
     "output_type": "error",
     "traceback": [
      "\u001b[1;31m---------------------------------------------------------------------------\u001b[0m",
      "\u001b[1;31mKeyError\u001b[0m                                  Traceback (most recent call last)",
      "File \u001b[1;32mc:\\Users\\Uzivatel\\anaconda3\\lib\\site-packages\\pandas\\core\\indexes\\base.py:3621\u001b[0m, in \u001b[0;36mIndex.get_loc\u001b[1;34m(self, key, method, tolerance)\u001b[0m\n\u001b[0;32m   3620\u001b[0m \u001b[39mtry\u001b[39;00m:\n\u001b[1;32m-> 3621\u001b[0m     \u001b[39mreturn\u001b[39;00m \u001b[39mself\u001b[39;49m\u001b[39m.\u001b[39;49m_engine\u001b[39m.\u001b[39;49mget_loc(casted_key)\n\u001b[0;32m   3622\u001b[0m \u001b[39mexcept\u001b[39;00m \u001b[39mKeyError\u001b[39;00m \u001b[39mas\u001b[39;00m err:\n",
      "File \u001b[1;32mc:\\Users\\Uzivatel\\anaconda3\\lib\\site-packages\\pandas\\_libs\\index.pyx:136\u001b[0m, in \u001b[0;36mpandas._libs.index.IndexEngine.get_loc\u001b[1;34m()\u001b[0m\n",
      "File \u001b[1;32mc:\\Users\\Uzivatel\\anaconda3\\lib\\site-packages\\pandas\\_libs\\index.pyx:163\u001b[0m, in \u001b[0;36mpandas._libs.index.IndexEngine.get_loc\u001b[1;34m()\u001b[0m\n",
      "File \u001b[1;32mpandas\\_libs\\hashtable_class_helper.pxi:5198\u001b[0m, in \u001b[0;36mpandas._libs.hashtable.PyObjectHashTable.get_item\u001b[1;34m()\u001b[0m\n",
      "File \u001b[1;32mpandas\\_libs\\hashtable_class_helper.pxi:5206\u001b[0m, in \u001b[0;36mpandas._libs.hashtable.PyObjectHashTable.get_item\u001b[1;34m()\u001b[0m\n",
      "\u001b[1;31mKeyError\u001b[0m: 'Daty'",
      "\nThe above exception was the direct cause of the following exception:\n",
      "\u001b[1;31mKeyError\u001b[0m                                  Traceback (most recent call last)",
      "\u001b[1;32mc:\\Users\\Uzivatel\\Documents\\New_component\\IES\\2022_2023\\Python\\midterm\\Vertat_Jakub_midterm.ipynb Cell 12\u001b[0m in \u001b[0;36m<cell line: 1>\u001b[1;34m()\u001b[0m\n\u001b[1;32m----> <a href='vscode-notebook-cell:/c%3A/Users/Uzivatel/Documents/New_component/IES/2022_2023/Python/midterm/Vertat_Jakub_midterm.ipynb#W6sZmlsZQ%3D%3D?line=0'>1</a>\u001b[0m CHD\u001b[39m.\u001b[39;49mplot(\u001b[39m\"\u001b[39;49m\u001b[39mDaty\u001b[39;49m\u001b[39m\"\u001b[39;49m,\u001b[39m\"\u001b[39;49m\u001b[39mlog_returns\u001b[39;49m\u001b[39m\"\u001b[39;49m)\n",
      "File \u001b[1;32mc:\\Users\\Uzivatel\\anaconda3\\lib\\site-packages\\pandas\\plotting\\_core.py:937\u001b[0m, in \u001b[0;36mPlotAccessor.__call__\u001b[1;34m(self, *args, **kwargs)\u001b[0m\n\u001b[0;32m    935\u001b[0m \u001b[39mif\u001b[39;00m is_integer(x) \u001b[39mand\u001b[39;00m \u001b[39mnot\u001b[39;00m data\u001b[39m.\u001b[39mcolumns\u001b[39m.\u001b[39mholds_integer():\n\u001b[0;32m    936\u001b[0m     x \u001b[39m=\u001b[39m data_cols[x]\n\u001b[1;32m--> 937\u001b[0m \u001b[39melif\u001b[39;00m \u001b[39mnot\u001b[39;00m \u001b[39misinstance\u001b[39m(data[x], ABCSeries):\n\u001b[0;32m    938\u001b[0m     \u001b[39mraise\u001b[39;00m \u001b[39mValueError\u001b[39;00m(\u001b[39m\"\u001b[39m\u001b[39mx must be a label or position\u001b[39m\u001b[39m\"\u001b[39m)\n\u001b[0;32m    939\u001b[0m data \u001b[39m=\u001b[39m data\u001b[39m.\u001b[39mset_index(x)\n",
      "File \u001b[1;32mc:\\Users\\Uzivatel\\anaconda3\\lib\\site-packages\\pandas\\core\\frame.py:3505\u001b[0m, in \u001b[0;36mDataFrame.__getitem__\u001b[1;34m(self, key)\u001b[0m\n\u001b[0;32m   3503\u001b[0m \u001b[39mif\u001b[39;00m \u001b[39mself\u001b[39m\u001b[39m.\u001b[39mcolumns\u001b[39m.\u001b[39mnlevels \u001b[39m>\u001b[39m \u001b[39m1\u001b[39m:\n\u001b[0;32m   3504\u001b[0m     \u001b[39mreturn\u001b[39;00m \u001b[39mself\u001b[39m\u001b[39m.\u001b[39m_getitem_multilevel(key)\n\u001b[1;32m-> 3505\u001b[0m indexer \u001b[39m=\u001b[39m \u001b[39mself\u001b[39;49m\u001b[39m.\u001b[39;49mcolumns\u001b[39m.\u001b[39;49mget_loc(key)\n\u001b[0;32m   3506\u001b[0m \u001b[39mif\u001b[39;00m is_integer(indexer):\n\u001b[0;32m   3507\u001b[0m     indexer \u001b[39m=\u001b[39m [indexer]\n",
      "File \u001b[1;32mc:\\Users\\Uzivatel\\anaconda3\\lib\\site-packages\\pandas\\core\\indexes\\base.py:3623\u001b[0m, in \u001b[0;36mIndex.get_loc\u001b[1;34m(self, key, method, tolerance)\u001b[0m\n\u001b[0;32m   3621\u001b[0m     \u001b[39mreturn\u001b[39;00m \u001b[39mself\u001b[39m\u001b[39m.\u001b[39m_engine\u001b[39m.\u001b[39mget_loc(casted_key)\n\u001b[0;32m   3622\u001b[0m \u001b[39mexcept\u001b[39;00m \u001b[39mKeyError\u001b[39;00m \u001b[39mas\u001b[39;00m err:\n\u001b[1;32m-> 3623\u001b[0m     \u001b[39mraise\u001b[39;00m \u001b[39mKeyError\u001b[39;00m(key) \u001b[39mfrom\u001b[39;00m \u001b[39merr\u001b[39;00m\n\u001b[0;32m   3624\u001b[0m \u001b[39mexcept\u001b[39;00m \u001b[39mTypeError\u001b[39;00m:\n\u001b[0;32m   3625\u001b[0m     \u001b[39m# If we have a listlike key, _check_indexing_error will raise\u001b[39;00m\n\u001b[0;32m   3626\u001b[0m     \u001b[39m#  InvalidIndexError. Otherwise we fall through and re-raise\u001b[39;00m\n\u001b[0;32m   3627\u001b[0m     \u001b[39m#  the TypeError.\u001b[39;00m\n\u001b[0;32m   3628\u001b[0m     \u001b[39mself\u001b[39m\u001b[39m.\u001b[39m_check_indexing_error(key)\n",
      "\u001b[1;31mKeyError\u001b[0m: 'Daty'"
     ]
    }
   ],
   "source": [
    "CHD.plot(\"Daty\",\"log_returns\")"
   ]
  }
 ],
 "metadata": {
  "kernelspec": {
   "display_name": "Python 3.9.12 ('base')",
   "language": "python",
   "name": "python3"
  },
  "language_info": {
   "codemirror_mode": {
    "name": "ipython",
    "version": 3
   },
   "file_extension": ".py",
   "mimetype": "text/x-python",
   "name": "python",
   "nbconvert_exporter": "python",
   "pygments_lexer": "ipython3",
   "version": "3.9.12"
  },
  "orig_nbformat": 4,
  "vscode": {
   "interpreter": {
    "hash": "0a5a2147deadad5d5c80ccb86c7a15408276d7d1d5c99c735263737af1acd769"
   }
  }
 },
 "nbformat": 4,
 "nbformat_minor": 2
}
